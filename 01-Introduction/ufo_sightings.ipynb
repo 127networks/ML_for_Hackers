{
 "metadata": {
  "name": "",
  "signature": "sha256:6dcd02aed38fe9822e184e613061e9f11576c5a7d9440f50eff0d2d6a46eaf9c"
 },
 "nbformat": 3,
 "nbformat_minor": 0,
 "worksheets": [
  {
   "cells": [
    {
     "cell_type": "markdown",
     "metadata": {},
     "source": [
      "Import the necessary packages"
     ]
    },
    {
     "cell_type": "code",
     "collapsed": false,
     "input": [
      "import pandas as pd\n",
      "import numpy as np\n",
      "from ggplot import *\n",
      "import os\n",
      "import us\n",
      "from IPython.core.pylabtools import figsize\n",
      "from matplotlib import pyplot as plt\n",
      "%matplotlib inline"
     ],
     "language": "python",
     "metadata": {},
     "outputs": [],
     "prompt_number": 3
    },
    {
     "cell_type": "markdown",
     "metadata": {},
     "source": [
      "Import the csv into pandas (via a DataFrame) and name the columns. Look at some of the summary statistics + the head of the dataframe."
     ]
    },
    {
     "cell_type": "code",
     "collapsed": false,
     "input": [
      "names =[\"DateOccurred\", \"DateReported\",\"Location\", \"ShortDescription\",\"Duration\", \"LongDescription\"]\n",
      "ufo = pd.read_csv(os.path.join(\"data\", \"ufo\", \"ufo_awesome.tsv\"), sep=\"\\t\",names=names)"
     ],
     "language": "python",
     "metadata": {},
     "outputs": [],
     "prompt_number": 4
    },
    {
     "cell_type": "code",
     "collapsed": false,
     "input": [
      "ufo.describe()\n",
      "len(ufo)"
     ],
     "language": "python",
     "metadata": {},
     "outputs": [
      {
       "metadata": {},
       "output_type": "pyout",
       "prompt_number": 5,
       "text": [
        "61393"
       ]
      }
     ],
     "prompt_number": 5
    },
    {
     "cell_type": "code",
     "collapsed": false,
     "input": [
      "ufo.head(5)"
     ],
     "language": "python",
     "metadata": {},
     "outputs": [
      {
       "html": [
        "<div style=\"max-height:1000px;max-width:1500px;overflow:auto;\">\n",
        "<table border=\"1\" class=\"dataframe\">\n",
        "  <thead>\n",
        "    <tr style=\"text-align: right;\">\n",
        "      <th></th>\n",
        "      <th>DateOccurred</th>\n",
        "      <th>DateReported</th>\n",
        "      <th>Location</th>\n",
        "      <th>ShortDescription</th>\n",
        "      <th>Duration</th>\n",
        "      <th>LongDescription</th>\n",
        "    </tr>\n",
        "  </thead>\n",
        "  <tbody>\n",
        "    <tr>\n",
        "      <th>0</th>\n",
        "      <td> 19951009</td>\n",
        "      <td> 19951009</td>\n",
        "      <td>  Iowa City, IA</td>\n",
        "      <td> NaN</td>\n",
        "      <td>    NaN</td>\n",
        "      <td> Man repts. witnessing &amp;quot;flash, followed by...</td>\n",
        "    </tr>\n",
        "    <tr>\n",
        "      <th>1</th>\n",
        "      <td> 19951010</td>\n",
        "      <td> 19951011</td>\n",
        "      <td>  Milwaukee, WI</td>\n",
        "      <td> NaN</td>\n",
        "      <td> 2 min.</td>\n",
        "      <td> Man  on Hwy 43 SW of Milwaukee sees large, bri...</td>\n",
        "    </tr>\n",
        "    <tr>\n",
        "      <th>2</th>\n",
        "      <td> 19950101</td>\n",
        "      <td> 19950103</td>\n",
        "      <td>    Shelton, WA</td>\n",
        "      <td> NaN</td>\n",
        "      <td>    NaN</td>\n",
        "      <td> Telephoned Report:CA woman visiting daughter w...</td>\n",
        "    </tr>\n",
        "    <tr>\n",
        "      <th>3</th>\n",
        "      <td> 19950510</td>\n",
        "      <td> 19950510</td>\n",
        "      <td>   Columbia, MO</td>\n",
        "      <td> NaN</td>\n",
        "      <td> 2 min.</td>\n",
        "      <td> Man repts. son&amp;apos;s bizarre sighting of smal...</td>\n",
        "    </tr>\n",
        "    <tr>\n",
        "      <th>4</th>\n",
        "      <td> 19950611</td>\n",
        "      <td> 19950614</td>\n",
        "      <td>    Seattle, WA</td>\n",
        "      <td> NaN</td>\n",
        "      <td>    NaN</td>\n",
        "      <td> Anonymous caller repts. sighting 4 ufo&amp;apos;s ...</td>\n",
        "    </tr>\n",
        "  </tbody>\n",
        "</table>\n",
        "</div>"
       ],
       "metadata": {},
       "output_type": "pyout",
       "prompt_number": 6,
       "text": [
        "   DateOccurred  DateReported        Location ShortDescription Duration  \\\n",
        "0      19951009      19951009   Iowa City, IA              NaN      NaN   \n",
        "1      19951010      19951011   Milwaukee, WI              NaN   2 min.   \n",
        "2      19950101      19950103     Shelton, WA              NaN      NaN   \n",
        "3      19950510      19950510    Columbia, MO              NaN   2 min.   \n",
        "4      19950611      19950614     Seattle, WA              NaN      NaN   \n",
        "\n",
        "                                     LongDescription  \n",
        "0  Man repts. witnessing &quot;flash, followed by...  \n",
        "1  Man  on Hwy 43 SW of Milwaukee sees large, bri...  \n",
        "2  Telephoned Report:CA woman visiting daughter w...  \n",
        "3  Man repts. son&apos;s bizarre sighting of smal...  \n",
        "4  Anonymous caller repts. sighting 4 ufo&apos;s ...  "
       ]
      }
     ],
     "prompt_number": 6
    },
    {
     "cell_type": "code",
     "collapsed": false,
     "input": [
      "ufo['DateOccurred'] = ufo['DateOccurred'].apply(str)\n",
      "ufo['DateReported'] = ufo['DateReported'].apply(str)\n",
      "ufo['DateOccurred'] = ufo['DateOccurred'].apply(lambda x: x.strip())\n",
      "ufo['DateReported'] = ufo['DateReported'].apply(lambda x: x.strip())\n",
      "good_rows = (ufo['DateOccurred'].str.len() == 8) & (ufo['DateReported'].str.len() == 8)\n",
      "ufo = ufo[good_rows]\n",
      "len(ufo)"
     ],
     "language": "python",
     "metadata": {},
     "outputs": [
      {
       "metadata": {},
       "output_type": "pyout",
       "prompt_number": 7,
       "text": [
        "61139"
       ]
      }
     ],
     "prompt_number": 7
    },
    {
     "cell_type": "code",
     "collapsed": false,
     "input": [
      "ufo.DateOccurred = pd.to_datetime(ufo.DateOccurred,format=\"%Y%m%d\",coerce=True)\n",
      "ufo.DateReported = pd.to_datetime(ufo.DateReported,format=\"%Y%m%d\",coerce=True)"
     ],
     "language": "python",
     "metadata": {},
     "outputs": [],
     "prompt_number": 8
    },
    {
     "cell_type": "code",
     "collapsed": false,
     "input": [
      "ufo[\"City\"] = ufo.Location.str.split(\",\").str[0]\n",
      "ufo[\"State\"] = ufo.Location.str.split(\",\").str[1]\n",
      "ufo[\"City\"] =ufo[\"City\"].str.lstrip()\n",
      "ufo[\"State\"] = ufo[\"State\"].str.lstrip()\n",
      "ufo.head(5)"
     ],
     "language": "python",
     "metadata": {},
     "outputs": [
      {
       "html": [
        "<div style=\"max-height:1000px;max-width:1500px;overflow:auto;\">\n",
        "<table border=\"1\" class=\"dataframe\">\n",
        "  <thead>\n",
        "    <tr style=\"text-align: right;\">\n",
        "      <th></th>\n",
        "      <th>DateOccurred</th>\n",
        "      <th>DateReported</th>\n",
        "      <th>Location</th>\n",
        "      <th>ShortDescription</th>\n",
        "      <th>Duration</th>\n",
        "      <th>LongDescription</th>\n",
        "      <th>City</th>\n",
        "      <th>State</th>\n",
        "    </tr>\n",
        "  </thead>\n",
        "  <tbody>\n",
        "    <tr>\n",
        "      <th>0</th>\n",
        "      <td>1995-10-09</td>\n",
        "      <td>1995-10-09</td>\n",
        "      <td>  Iowa City, IA</td>\n",
        "      <td> NaN</td>\n",
        "      <td>    NaN</td>\n",
        "      <td> Man repts. witnessing &amp;quot;flash, followed by...</td>\n",
        "      <td> Iowa City</td>\n",
        "      <td> IA</td>\n",
        "    </tr>\n",
        "    <tr>\n",
        "      <th>1</th>\n",
        "      <td>1995-10-10</td>\n",
        "      <td>1995-10-11</td>\n",
        "      <td>  Milwaukee, WI</td>\n",
        "      <td> NaN</td>\n",
        "      <td> 2 min.</td>\n",
        "      <td> Man  on Hwy 43 SW of Milwaukee sees large, bri...</td>\n",
        "      <td> Milwaukee</td>\n",
        "      <td> WI</td>\n",
        "    </tr>\n",
        "    <tr>\n",
        "      <th>2</th>\n",
        "      <td>1995-01-01</td>\n",
        "      <td>1995-01-03</td>\n",
        "      <td>    Shelton, WA</td>\n",
        "      <td> NaN</td>\n",
        "      <td>    NaN</td>\n",
        "      <td> Telephoned Report:CA woman visiting daughter w...</td>\n",
        "      <td>   Shelton</td>\n",
        "      <td> WA</td>\n",
        "    </tr>\n",
        "    <tr>\n",
        "      <th>3</th>\n",
        "      <td>1995-05-10</td>\n",
        "      <td>1995-05-10</td>\n",
        "      <td>   Columbia, MO</td>\n",
        "      <td> NaN</td>\n",
        "      <td> 2 min.</td>\n",
        "      <td> Man repts. son&amp;apos;s bizarre sighting of smal...</td>\n",
        "      <td>  Columbia</td>\n",
        "      <td> MO</td>\n",
        "    </tr>\n",
        "    <tr>\n",
        "      <th>4</th>\n",
        "      <td>1995-06-11</td>\n",
        "      <td>1995-06-14</td>\n",
        "      <td>    Seattle, WA</td>\n",
        "      <td> NaN</td>\n",
        "      <td>    NaN</td>\n",
        "      <td> Anonymous caller repts. sighting 4 ufo&amp;apos;s ...</td>\n",
        "      <td>   Seattle</td>\n",
        "      <td> WA</td>\n",
        "    </tr>\n",
        "  </tbody>\n",
        "</table>\n",
        "</div>"
       ],
       "metadata": {},
       "output_type": "pyout",
       "prompt_number": 9,
       "text": [
        "  DateOccurred DateReported        Location ShortDescription Duration  \\\n",
        "0   1995-10-09   1995-10-09   Iowa City, IA              NaN      NaN   \n",
        "1   1995-10-10   1995-10-11   Milwaukee, WI              NaN   2 min.   \n",
        "2   1995-01-01   1995-01-03     Shelton, WA              NaN      NaN   \n",
        "3   1995-05-10   1995-05-10    Columbia, MO              NaN   2 min.   \n",
        "4   1995-06-11   1995-06-14     Seattle, WA              NaN      NaN   \n",
        "\n",
        "                                     LongDescription       City State  \n",
        "0  Man repts. witnessing &quot;flash, followed by...  Iowa City    IA  \n",
        "1  Man  on Hwy 43 SW of Milwaukee sees large, bri...  Milwaukee    WI  \n",
        "2  Telephoned Report:CA woman visiting daughter w...    Shelton    WA  \n",
        "3  Man repts. son&apos;s bizarre sighting of smal...   Columbia    MO  \n",
        "4  Anonymous caller repts. sighting 4 ufo&apos;s ...    Seattle    WA  "
       ]
      }
     ],
     "prompt_number": 9
    },
    {
     "cell_type": "code",
     "collapsed": false,
     "input": [
      "STATES_ABBR = [str(state.abbr) for state in us.STATES]\n",
      "def is_state_in_usa(x):\n",
      "    if x in STATES_ABBR:\n",
      "        x\n",
      "ufo['USState'] = ufo.State.apply(lambda x : x  if len(str(x)) == 2 and x in STATES_ABBR else np.nan )\n",
      "ufo_us = ufo.dropna(axis=0)"
     ],
     "language": "python",
     "metadata": {},
     "outputs": [],
     "prompt_number": 10
    },
    {
     "cell_type": "code",
     "collapsed": false,
     "input": [
      "ufo_us.head(5)\n",
      "ufo_us.DateOccurred.apply( lambda x : x if isinstance(x,pd.Timestamp) else np.nan)\n",
      "ufo_us.DateOccurred.dropna();"
     ],
     "language": "python",
     "metadata": {},
     "outputs": [],
     "prompt_number": 11
    },
    {
     "cell_type": "code",
     "collapsed": false,
     "input": [
      "plt.figure(figsize=(12, 12));\n",
      "ufo_us['year'] = ufo_us.DateOccurred.apply(lambda x: x.year)\n",
      "ufo_us['year'].hist(bins=200,color='black')\n",
      "plt.xlim(1900, 2010);\n",
      "plt.xlabel(\"Date Occured\")\n",
      "plt.ylabel(\"Count\")\n",
      "plt.legend();"
     ],
     "language": "python",
     "metadata": {},
     "outputs": [
      {
       "metadata": {},
       "output_type": "display_data",
       "png": "[encoded data removed]",
       "text": [
        "<matplotlib.figure.Figure at 0x10e6a1cd0>"
       ]
      }
     ],
     "prompt_number": 12
    },
    {
     "cell_type": "code",
     "collapsed": false,
     "input": [
      "ufo_us = ufo_us[ufo_us.DateOccurred > datetime.datetime(year=1990,month=1,day=1)]"
     ],
     "language": "python",
     "metadata": {},
     "outputs": [
      {
       "ename": "NameError",
       "evalue": "name 'datetime' is not defined",
       "output_type": "pyerr",
       "traceback": [
        "\u001b[0;31m---------------------------------------------------------------------------\u001b[0m\n\u001b[0;31mNameError\u001b[0m                                 Traceback (most recent call last)",
        "\u001b[0;32m<ipython-input-13-f1dfcab66cb5>\u001b[0m in \u001b[0;36m<module>\u001b[0;34m()\u001b[0m\n\u001b[0;32m----> 1\u001b[0;31m \u001b[0mufo_us\u001b[0m \u001b[0;34m=\u001b[0m \u001b[0mufo_us\u001b[0m\u001b[0;34m[\u001b[0m\u001b[0mufo_us\u001b[0m\u001b[0;34m.\u001b[0m\u001b[0mDateOccurred\u001b[0m \u001b[0;34m>\u001b[0m \u001b[0mdatetime\u001b[0m\u001b[0;34m.\u001b[0m\u001b[0mdatetime\u001b[0m\u001b[0;34m(\u001b[0m\u001b[0myear\u001b[0m\u001b[0;34m=\u001b[0m\u001b[0;36m1990\u001b[0m\u001b[0;34m,\u001b[0m\u001b[0mmonth\u001b[0m\u001b[0;34m=\u001b[0m\u001b[0;36m1\u001b[0m\u001b[0;34m,\u001b[0m\u001b[0mday\u001b[0m\u001b[0;34m=\u001b[0m\u001b[0;36m1\u001b[0m\u001b[0;34m)\u001b[0m\u001b[0;34m]\u001b[0m\u001b[0;34m\u001b[0m\u001b[0m\n\u001b[0m",
        "\u001b[0;31mNameError\u001b[0m: name 'datetime' is not defined"
       ]
      }
     ],
     "prompt_number": 13
    },
    {
     "cell_type": "code",
     "collapsed": false,
     "input": [
      "plt.figure(figsize=(12, 12));\n",
      "ufo_us['year'] = ufo_us.DateOccurred.apply(lambda x: x.year)\n",
      "ufo_us['year'].hist(bins=31,color='black')\n",
      "plt.xlim(1990, 2010);\n",
      "plt.xlabel(\"Date Occured\")\n",
      "plt.ylabel(\"Count\")"
     ],
     "language": "python",
     "metadata": {},
     "outputs": []
    },
    {
     "cell_type": "code",
     "collapsed": false,
     "input": [
      "ufo_us['YearMonth'] = ufo_us.DateOccurred.apply(lambda x: x.strftime('%Y-%m'))\n",
      "ufo_us['YearMonth'].head()"
     ],
     "language": "python",
     "metadata": {},
     "outputs": []
    },
    {
     "cell_type": "code",
     "collapsed": false,
     "input": [
      "ufo_us.groupby(['State','YearMonth']).YearMonth.count()"
     ],
     "language": "python",
     "metadata": {},
     "outputs": []
    },
    {
     "cell_type": "code",
     "collapsed": false,
     "input": [
      "from IPython.core.display import HTML\n",
      "\n",
      "\n",
      "def css_styling():\n",
      "    styles = open(\"../styles/custom.css\", \"r\").read()\n",
      "    return HTML(styles)\n",
      "css_styling()"
     ],
     "language": "python",
     "metadata": {},
     "outputs": [
      {
       "html": [
        "<style>\n",
        "    @font-face {\n",
        "        font-family: \"Computer Modern\";\n",
        "        src: url('http://9dbb143991406a7c655e-aa5fcb0a5a4ec34cff238a2d56ca4144.r56.cf5.rackcdn.com/cmunss.otf');\n",
        "    }\n",
        "    @font-face {\n",
        "        font-family: \"Computer Modern\";\n",
        "        font-weight: bold;\n",
        "        src: url('http://9dbb143991406a7c655e-aa5fcb0a5a4ec34cff238a2d56ca4144.r56.cf5.rackcdn.com/cmunsx.otf');\n",
        "    }\n",
        "    @font-face {\n",
        "        font-family: \"Computer Modern\";\n",
        "        font-style: oblique;\n",
        "        src: url('http://9dbb143991406a7c655e-aa5fcb0a5a4ec34cff238a2d56ca4144.r56.cf5.rackcdn.com/cmunsi.otf');\n",
        "    }\n",
        "    @font-face {\n",
        "        font-family: \"Computer Modern\";\n",
        "        font-weight: bold;\n",
        "        font-style: oblique;\n",
        "        src: url('http://9dbb143991406a7c655e-aa5fcb0a5a4ec34cff238a2d56ca4144.r56.cf5.rackcdn.com/cmunso.otf');\n",
        "    }\n",
        "    div.cell{\n",
        "        width:800px;\n",
        "        margin-left:16% !important;\n",
        "        margin-right:auto;\n",
        "    }\n",
        "    h1 {\n",
        "        font-family: Helvetica, serif;\n",
        "    }\n",
        "    h4{\n",
        "        margin-top:12px;\n",
        "        margin-bottom: 3px;\n",
        "       }\n",
        "    div.text_cell_render{\n",
        "        font-family: Computer Modern, \"Helvetica Neue\", Arial, Helvetica, Geneva, sans-serif;\n",
        "        line-height: 145%;\n",
        "        font-size: 130%;\n",
        "        width:800px;\n",
        "        margin-left:auto;\n",
        "        margin-right:auto;\n",
        "    }\n",
        "    .CodeMirror{\n",
        "            font-family: \"Source Code Pro\", source-code-pro,Consolas, monospace;\n",
        "    }\n",
        "    .prompt{\n",
        "        display: None;\n",
        "    }\n",
        "    .text_cell_render h5 {\n",
        "        font-weight: 300;\n",
        "        font-size: 22pt;\n",
        "        color: #4057A1;\n",
        "        font-style: italic;\n",
        "        margin-bottom: .5em;\n",
        "        margin-top: 0.5em;\n",
        "        display: block;\n",
        "    }\n",
        "    \n",
        "    .warning{\n",
        "        color: rgb( 240, 20, 20 )\n",
        "        }  \n",
        "</style>\n",
        "<script>\n",
        "    MathJax.Hub.Config({\n",
        "                        TeX: {\n",
        "                           extensions: [\"AMSmath.js\"]\n",
        "                           },\n",
        "                tex2jax: {\n",
        "                    inlineMath: [ ['$','$'], [\"\\\\(\",\"\\\\)\"] ],\n",
        "                    displayMath: [ ['$$','$$'], [\"\\\\[\",\"\\\\]\"] ]\n",
        "                },\n",
        "                displayAlign: 'center', // Change this to 'center' to center equations.\n",
        "                \"HTML-CSS\": {\n",
        "                    styles: {'.MathJax_Display': {\"margin\": 4}}\n",
        "                }\n",
        "        });\n",
        "</script>\n"
       ],
       "metadata": {},
       "output_type": "pyout",
       "prompt_number": 14,
       "text": [
        "<IPython.core.display.HTML at 0x10fdc57d0>"
       ]
      }
     ],
     "prompt_number": 14
    }
   ],
   "metadata": {}
  }
 ]
}